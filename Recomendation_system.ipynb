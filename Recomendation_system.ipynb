{
  "nbformat": 4,
  "nbformat_minor": 0,
  "metadata": {
    "colab": {
      "name": "Recomendation system.ipynb",
      "provenance": []
    },
    "kernelspec": {
      "name": "python3",
      "display_name": "Python 3"
    },
    "language_info": {
      "name": "python"
    },
    "accelerator": "GPU"
  },
  "cells": [
    {
      "cell_type": "code",
      "metadata": {
        "colab": {
          "base_uri": "https://localhost:8080/"
        },
        "id": "BrjlcS7S5ADa",
        "outputId": "aed81d9f-6195-4984-b066-7891373ef338"
      },
      "source": [
        "import tensorflow as tf\n",
        "from tensorflow.keras import Model\n",
        "from tensorflow.keras.layers import Input, Embedding, Reshape, Dot, Flatten, concatenate, Dense, Dropout\n",
        "from tensorflow.keras.optimizers import Adam\n",
        "from tensorflow.keras.callbacks import ModelCheckpoint\n",
        "\n",
        "from tensorflow.keras.utils import model_to_dot\n",
        "from IPython.display import SVG\n",
        "\n",
        "print('Using tensorflow version:', tf.__version__)"
      ],
      "execution_count": 1,
      "outputs": [
        {
          "output_type": "stream",
          "text": [
            "Using tensorflow version: 2.5.0\n"
          ],
          "name": "stdout"
        }
      ]
    },
    {
      "cell_type": "code",
      "metadata": {
        "id": "m405aFIX-Emg"
      },
      "source": [
        "import numpy as np # linear algebra\n",
        "import pandas as pd # data processing, CSV file I/O (e.g. pd.read_csv)\n",
        "import matplotlib.pyplot as plt\n",
        "import seaborn as sns\n",
        "import re\n",
        "import os"
      ],
      "execution_count": 2,
      "outputs": []
    },
    {
      "cell_type": "code",
      "metadata": {
        "id": "_GYyFgxp-Nil"
      },
      "source": [
        "dtw = pd.read_csv('torem_dtw.csv')\n",
        "rating = pd.read_csv('ratings.csv')"
      ],
      "execution_count": 3,
      "outputs": []
    },
    {
      "cell_type": "code",
      "metadata": {
        "colab": {
          "base_uri": "https://localhost:8080/",
          "height": 427
        },
        "id": "-k4cuxro-uMQ",
        "outputId": "94879dcb-69cb-46e2-e989-66f45d38df23"
      },
      "source": [
        "dtw.loc[dtw['Google Review'].isna(), 'Google Review'] = 4.4\n",
        "# dtw[dtw['Google Review'].isna()]\n",
        "dtw.head()"
      ],
      "execution_count": 6,
      "outputs": [
        {
          "output_type": "execute_result",
          "data": {
            "text/html": [
              "<div>\n",
              "<style scoped>\n",
              "    .dataframe tbody tr th:only-of-type {\n",
              "        vertical-align: middle;\n",
              "    }\n",
              "\n",
              "    .dataframe tbody tr th {\n",
              "        vertical-align: top;\n",
              "    }\n",
              "\n",
              "    .dataframe thead th {\n",
              "        text-align: right;\n",
              "    }\n",
              "</style>\n",
              "<table border=\"1\" class=\"dataframe\">\n",
              "  <thead>\n",
              "    <tr style=\"text-align: right;\">\n",
              "      <th></th>\n",
              "      <th>ID</th>\n",
              "      <th>Nama Daya Tarik Wisata</th>\n",
              "      <th>Alamat</th>\n",
              "      <th>Daerah</th>\n",
              "      <th>Provinsi</th>\n",
              "      <th>Kawasan</th>\n",
              "      <th>Kategori</th>\n",
              "      <th>Google Review</th>\n",
              "      <th>Google Map ID</th>\n",
              "    </tr>\n",
              "  </thead>\n",
              "  <tbody>\n",
              "    <tr>\n",
              "      <th>0</th>\n",
              "      <td>1</td>\n",
              "      <td>Pantai Kuta</td>\n",
              "      <td>Kuta, Badung, Bali</td>\n",
              "      <td>Kuta</td>\n",
              "      <td>Bali</td>\n",
              "      <td>Pantai</td>\n",
              "      <td>Alam</td>\n",
              "      <td>4.4</td>\n",
              "      <td>ChIJkbJrRYFH0i0RggJb7CncdHE</td>\n",
              "    </tr>\n",
              "    <tr>\n",
              "      <th>1</th>\n",
              "      <td>2</td>\n",
              "      <td>Peninsula Island</td>\n",
              "      <td>Pulau Peninsula Nusa Dua, Nusa Dua, Benoa, Kec...</td>\n",
              "      <td>Nusa Dua</td>\n",
              "      <td>Bali</td>\n",
              "      <td>Pantai</td>\n",
              "      <td>Alam</td>\n",
              "      <td>4.5</td>\n",
              "      <td>ChIJM51wq9dC0i0RktOawQYW3jk</td>\n",
              "    </tr>\n",
              "    <tr>\n",
              "      <th>2</th>\n",
              "      <td>3</td>\n",
              "      <td>Pura Luhur Uluwatu</td>\n",
              "      <td>Pecatu, Kec. Kuta Sel., Kabupaten Badung, Bali</td>\n",
              "      <td>Pecatu</td>\n",
              "      <td>Bali</td>\n",
              "      <td>Pantai</td>\n",
              "      <td>Budaya</td>\n",
              "      <td>4.6</td>\n",
              "      <td>ChIJkYHLIPxP0i0RlQTbpxuNuQw</td>\n",
              "    </tr>\n",
              "    <tr>\n",
              "      <th>3</th>\n",
              "      <td>4</td>\n",
              "      <td>Garuda Wisnu Kencana</td>\n",
              "      <td>Jl. Raya Uluwatu, Ungasan, Kuta Selatan Badung...</td>\n",
              "      <td>Ungasan</td>\n",
              "      <td>Bali</td>\n",
              "      <td>Kota</td>\n",
              "      <td>Monumen</td>\n",
              "      <td>4.5</td>\n",
              "      <td>ChIJx97hVM9E0i0RUVpPBj5miBk</td>\n",
              "    </tr>\n",
              "    <tr>\n",
              "      <th>4</th>\n",
              "      <td>5</td>\n",
              "      <td>Pantai Padang - Padang</td>\n",
              "      <td>Pecatu, Kuta Selatan, Kabupaten Badung, Bali.</td>\n",
              "      <td>Pecatu</td>\n",
              "      <td>Bali</td>\n",
              "      <td>Pantai</td>\n",
              "      <td>Alam</td>\n",
              "      <td>4.4</td>\n",
              "      <td>ChIJV-JMXVBF0i0RFUBMWOw7eGQ</td>\n",
              "    </tr>\n",
              "  </tbody>\n",
              "</table>\n",
              "</div>"
            ],
            "text/plain": [
              "   ID  Nama Daya Tarik Wisata  ... Google Review                Google Map ID\n",
              "0   1             Pantai Kuta  ...           4.4  ChIJkbJrRYFH0i0RggJb7CncdHE\n",
              "1   2        Peninsula Island  ...           4.5  ChIJM51wq9dC0i0RktOawQYW3jk\n",
              "2   3      Pura Luhur Uluwatu  ...           4.6  ChIJkYHLIPxP0i0RlQTbpxuNuQw\n",
              "3   4    Garuda Wisnu Kencana  ...           4.5  ChIJx97hVM9E0i0RUVpPBj5miBk\n",
              "4   5  Pantai Padang - Padang  ...           4.4  ChIJV-JMXVBF0i0RFUBMWOw7eGQ\n",
              "\n",
              "[5 rows x 9 columns]"
            ]
          },
          "metadata": {
            "tags": []
          },
          "execution_count": 6
        }
      ]
    },
    {
      "cell_type": "code",
      "metadata": {
        "colab": {
          "base_uri": "https://localhost:8080/",
          "height": 202
        },
        "id": "tTtjQMyx-xLz",
        "outputId": "7f6f707e-e157-48a1-d7bb-9acc32d7abff"
      },
      "source": [
        "rating.head()"
      ],
      "execution_count": 5,
      "outputs": [
        {
          "output_type": "execute_result",
          "data": {
            "text/html": [
              "<div>\n",
              "<style scoped>\n",
              "    .dataframe tbody tr th:only-of-type {\n",
              "        vertical-align: middle;\n",
              "    }\n",
              "\n",
              "    .dataframe tbody tr th {\n",
              "        vertical-align: top;\n",
              "    }\n",
              "\n",
              "    .dataframe thead th {\n",
              "        text-align: right;\n",
              "    }\n",
              "</style>\n",
              "<table border=\"1\" class=\"dataframe\">\n",
              "  <thead>\n",
              "    <tr style=\"text-align: right;\">\n",
              "      <th></th>\n",
              "      <th>user_id</th>\n",
              "      <th>dtw_id</th>\n",
              "      <th>rating</th>\n",
              "    </tr>\n",
              "  </thead>\n",
              "  <tbody>\n",
              "    <tr>\n",
              "      <th>0</th>\n",
              "      <td>1</td>\n",
              "      <td>84</td>\n",
              "      <td>4.8</td>\n",
              "    </tr>\n",
              "    <tr>\n",
              "      <th>1</th>\n",
              "      <td>1</td>\n",
              "      <td>96</td>\n",
              "      <td>4.5</td>\n",
              "    </tr>\n",
              "    <tr>\n",
              "      <th>2</th>\n",
              "      <td>2</td>\n",
              "      <td>98</td>\n",
              "      <td>3.3</td>\n",
              "    </tr>\n",
              "    <tr>\n",
              "      <th>3</th>\n",
              "      <td>2</td>\n",
              "      <td>73</td>\n",
              "      <td>4.3</td>\n",
              "    </tr>\n",
              "    <tr>\n",
              "      <th>4</th>\n",
              "      <td>2</td>\n",
              "      <td>35</td>\n",
              "      <td>4.3</td>\n",
              "    </tr>\n",
              "  </tbody>\n",
              "</table>\n",
              "</div>"
            ],
            "text/plain": [
              "   user_id  dtw_id  rating\n",
              "0        1      84     4.8\n",
              "1        1      96     4.5\n",
              "2        2      98     3.3\n",
              "3        2      73     4.3\n",
              "4        2      35     4.3"
            ]
          },
          "metadata": {
            "tags": []
          },
          "execution_count": 5
        }
      ]
    },
    {
      "cell_type": "code",
      "metadata": {
        "id": "hbLb8Lzy-_X6"
      },
      "source": [
        "user_num = rating['user_id'].nunique()\n",
        "dtw_num = rating['dtw_id'].nunique()"
      ],
      "execution_count": 13,
      "outputs": []
    },
    {
      "cell_type": "code",
      "metadata": {
        "colab": {
          "base_uri": "https://localhost:8080/"
        },
        "id": "wJzsAIEg_eCu",
        "outputId": "e0e5e2c0-f5db-4284-920c-bffc0a015c54"
      },
      "source": [
        "# dtw_num\n",
        "# user_num\n",
        "rating.shape"
      ],
      "execution_count": 19,
      "outputs": [
        {
          "output_type": "execute_result",
          "data": {
            "text/plain": [
              "(1243, 3)"
            ]
          },
          "metadata": {
            "tags": []
          },
          "execution_count": 19
        }
      ]
    },
    {
      "cell_type": "code",
      "metadata": {
        "id": "962HR20F_qDu"
      },
      "source": [
        "def RecommenderV2(n_users, n_dtws):\n",
        "    \n",
        "    # User\n",
        "    user = Input(shape=[1])\n",
        "    U = Embedding(n_users+1,15)(user)\n",
        "    U = Flatten()(U)\n",
        "    \n",
        "    # dtw\n",
        "    dtw = Input(shape=[1])\n",
        "    M = Embedding(n_dtws+1,15)(dtw)\n",
        "    M = Flatten()(M)\n",
        "    \n",
        "    # Gabungkan disini\n",
        "    merged_vector = concatenate([U, M])\n",
        "    dense_1 = Dense(128, activation='relu')(merged_vector)\n",
        "    dropout = Dropout(0.5)(dense_1)\n",
        "    final = Dense(1)(dropout)\n",
        "    \n",
        "    model = Model(inputs=[user, dtw], outputs=final)\n",
        "    \n",
        "    model.compile(optimizer=Adam(0.001),\n",
        "                  loss='mean_squared_error')\n",
        "    \n",
        "    return model"
      ],
      "execution_count": 44,
      "outputs": []
    },
    {
      "cell_type": "code",
      "metadata": {
        "colab": {
          "base_uri": "https://localhost:8080/",
          "height": 1000
        },
        "id": "KklQN7ttAEYO",
        "outputId": "558130a1-04fc-4a89-fedd-970bde62784f"
      },
      "source": [
        "model = RecommenderV2(user_num, dtw_num)\n",
        "\n",
        "SVG(model_to_dot(model, show_shapes=True, show_layer_names=True).create(prog='dot', format='svg'))"
      ],
      "execution_count": 45,
      "outputs": [
        {
          "output_type": "execute_result",
          "data": {
            "text/plain": [
              "<IPython.core.display.SVG object>"
            ],
            "image/svg+xml": "<svg height=\"737pt\" viewBox=\"0.00 0.00 674.00 553.00\" width=\"899pt\" xmlns=\"http://www.w3.org/2000/svg\" xmlns:xlink=\"http://www.w3.org/1999/xlink\">\n<g class=\"graph\" id=\"graph0\" transform=\"scale(1.3333 1.3333) rotate(0) translate(4 549)\">\n<title>G</title>\n<polygon fill=\"#ffffff\" points=\"-4,4 -4,-549 670,-549 670,4 -4,4\" stroke=\"transparent\"/>\n<!-- 140204016252432 -->\n<g class=\"node\" id=\"node1\">\n<title>140204016252432</title>\n<polygon fill=\"none\" points=\"26,-498.5 26,-544.5 298,-544.5 298,-498.5 26,-498.5\" stroke=\"#000000\"/>\n<text fill=\"#000000\" font-family=\"Times,serif\" font-size=\"14.00\" text-anchor=\"middle\" x=\"92.5\" y=\"-517.8\">input_8: InputLayer</text>\n<polyline fill=\"none\" points=\"159,-498.5 159,-544.5 \" stroke=\"#000000\"/>\n<text fill=\"#000000\" font-family=\"Times,serif\" font-size=\"14.00\" text-anchor=\"middle\" x=\"188\" y=\"-529.3\">input:</text>\n<polyline fill=\"none\" points=\"159,-521.5 217,-521.5 \" stroke=\"#000000\"/>\n<text fill=\"#000000\" font-family=\"Times,serif\" font-size=\"14.00\" text-anchor=\"middle\" x=\"188\" y=\"-506.3\">output:</text>\n<polyline fill=\"none\" points=\"217,-498.5 217,-544.5 \" stroke=\"#000000\"/>\n<text fill=\"#000000\" font-family=\"Times,serif\" font-size=\"14.00\" text-anchor=\"middle\" x=\"257.5\" y=\"-529.3\">[(None, 1)]</text>\n<polyline fill=\"none\" points=\"217,-521.5 298,-521.5 \" stroke=\"#000000\"/>\n<text fill=\"#000000\" font-family=\"Times,serif\" font-size=\"14.00\" text-anchor=\"middle\" x=\"257.5\" y=\"-506.3\">[(None, 1)]</text>\n</g>\n<!-- 140204051725264 -->\n<g class=\"node\" id=\"node3\">\n<title>140204051725264</title>\n<polygon fill=\"none\" points=\"0,-415.5 0,-461.5 324,-461.5 324,-415.5 0,-415.5\" stroke=\"#000000\"/>\n<text fill=\"#000000\" font-family=\"Times,serif\" font-size=\"14.00\" text-anchor=\"middle\" x=\"85.5\" y=\"-434.8\">embedding_7: Embedding</text>\n<polyline fill=\"none\" points=\"171,-415.5 171,-461.5 \" stroke=\"#000000\"/>\n<text fill=\"#000000\" font-family=\"Times,serif\" font-size=\"14.00\" text-anchor=\"middle\" x=\"200\" y=\"-446.3\">input:</text>\n<polyline fill=\"none\" points=\"171,-438.5 229,-438.5 \" stroke=\"#000000\"/>\n<text fill=\"#000000\" font-family=\"Times,serif\" font-size=\"14.00\" text-anchor=\"middle\" x=\"200\" y=\"-423.3\">output:</text>\n<polyline fill=\"none\" points=\"229,-415.5 229,-461.5 \" stroke=\"#000000\"/>\n<text fill=\"#000000\" font-family=\"Times,serif\" font-size=\"14.00\" text-anchor=\"middle\" x=\"276.5\" y=\"-446.3\">(None, 1)</text>\n<polyline fill=\"none\" points=\"229,-438.5 324,-438.5 \" stroke=\"#000000\"/>\n<text fill=\"#000000\" font-family=\"Times,serif\" font-size=\"14.00\" text-anchor=\"middle\" x=\"276.5\" y=\"-423.3\">(None, 1, 15)</text>\n</g>\n<!-- 140204016252432&#45;&gt;140204051725264 -->\n<g class=\"edge\" id=\"edge1\">\n<title>140204016252432-&gt;140204051725264</title>\n<path d=\"M162,-498.3799C162,-490.1745 162,-480.7679 162,-471.8786\" fill=\"none\" stroke=\"#000000\"/>\n<polygon fill=\"#000000\" points=\"165.5001,-471.784 162,-461.784 158.5001,-471.784 165.5001,-471.784\" stroke=\"#000000\"/>\n</g>\n<!-- 140204016204624 -->\n<g class=\"node\" id=\"node2\">\n<title>140204016204624</title>\n<polygon fill=\"none\" points=\"368,-498.5 368,-544.5 640,-544.5 640,-498.5 368,-498.5\" stroke=\"#000000\"/>\n<text fill=\"#000000\" font-family=\"Times,serif\" font-size=\"14.00\" text-anchor=\"middle\" x=\"434.5\" y=\"-517.8\">input_9: InputLayer</text>\n<polyline fill=\"none\" points=\"501,-498.5 501,-544.5 \" stroke=\"#000000\"/>\n<text fill=\"#000000\" font-family=\"Times,serif\" font-size=\"14.00\" text-anchor=\"middle\" x=\"530\" y=\"-529.3\">input:</text>\n<polyline fill=\"none\" points=\"501,-521.5 559,-521.5 \" stroke=\"#000000\"/>\n<text fill=\"#000000\" font-family=\"Times,serif\" font-size=\"14.00\" text-anchor=\"middle\" x=\"530\" y=\"-506.3\">output:</text>\n<polyline fill=\"none\" points=\"559,-498.5 559,-544.5 \" stroke=\"#000000\"/>\n<text fill=\"#000000\" font-family=\"Times,serif\" font-size=\"14.00\" text-anchor=\"middle\" x=\"599.5\" y=\"-529.3\">[(None, 1)]</text>\n<polyline fill=\"none\" points=\"559,-521.5 640,-521.5 \" stroke=\"#000000\"/>\n<text fill=\"#000000\" font-family=\"Times,serif\" font-size=\"14.00\" text-anchor=\"middle\" x=\"599.5\" y=\"-506.3\">[(None, 1)]</text>\n</g>\n<!-- 140204021652560 -->\n<g class=\"node\" id=\"node4\">\n<title>140204021652560</title>\n<polygon fill=\"none\" points=\"342,-415.5 342,-461.5 666,-461.5 666,-415.5 342,-415.5\" stroke=\"#000000\"/>\n<text fill=\"#000000\" font-family=\"Times,serif\" font-size=\"14.00\" text-anchor=\"middle\" x=\"427.5\" y=\"-434.8\">embedding_8: Embedding</text>\n<polyline fill=\"none\" points=\"513,-415.5 513,-461.5 \" stroke=\"#000000\"/>\n<text fill=\"#000000\" font-family=\"Times,serif\" font-size=\"14.00\" text-anchor=\"middle\" x=\"542\" y=\"-446.3\">input:</text>\n<polyline fill=\"none\" points=\"513,-438.5 571,-438.5 \" stroke=\"#000000\"/>\n<text fill=\"#000000\" font-family=\"Times,serif\" font-size=\"14.00\" text-anchor=\"middle\" x=\"542\" y=\"-423.3\">output:</text>\n<polyline fill=\"none\" points=\"571,-415.5 571,-461.5 \" stroke=\"#000000\"/>\n<text fill=\"#000000\" font-family=\"Times,serif\" font-size=\"14.00\" text-anchor=\"middle\" x=\"618.5\" y=\"-446.3\">(None, 1)</text>\n<polyline fill=\"none\" points=\"571,-438.5 666,-438.5 \" stroke=\"#000000\"/>\n<text fill=\"#000000\" font-family=\"Times,serif\" font-size=\"14.00\" text-anchor=\"middle\" x=\"618.5\" y=\"-423.3\">(None, 1, 15)</text>\n</g>\n<!-- 140204016204624&#45;&gt;140204021652560 -->\n<g class=\"edge\" id=\"edge2\">\n<title>140204016204624-&gt;140204021652560</title>\n<path d=\"M504,-498.3799C504,-490.1745 504,-480.7679 504,-471.8786\" fill=\"none\" stroke=\"#000000\"/>\n<polygon fill=\"#000000\" points=\"507.5001,-471.784 504,-461.784 500.5001,-471.784 507.5001,-471.784\" stroke=\"#000000\"/>\n</g>\n<!-- 140204021652496 -->\n<g class=\"node\" id=\"node5\">\n<title>140204021652496</title>\n<polygon fill=\"none\" points=\"58,-332.5 58,-378.5 324,-378.5 324,-332.5 58,-332.5\" stroke=\"#000000\"/>\n<text fill=\"#000000\" font-family=\"Times,serif\" font-size=\"14.00\" text-anchor=\"middle\" x=\"114.5\" y=\"-351.8\">flatten_6: Flatten</text>\n<polyline fill=\"none\" points=\"171,-332.5 171,-378.5 \" stroke=\"#000000\"/>\n<text fill=\"#000000\" font-family=\"Times,serif\" font-size=\"14.00\" text-anchor=\"middle\" x=\"200\" y=\"-363.3\">input:</text>\n<polyline fill=\"none\" points=\"171,-355.5 229,-355.5 \" stroke=\"#000000\"/>\n<text fill=\"#000000\" font-family=\"Times,serif\" font-size=\"14.00\" text-anchor=\"middle\" x=\"200\" y=\"-340.3\">output:</text>\n<polyline fill=\"none\" points=\"229,-332.5 229,-378.5 \" stroke=\"#000000\"/>\n<text fill=\"#000000\" font-family=\"Times,serif\" font-size=\"14.00\" text-anchor=\"middle\" x=\"276.5\" y=\"-363.3\">(None, 1, 15)</text>\n<polyline fill=\"none\" points=\"229,-355.5 324,-355.5 \" stroke=\"#000000\"/>\n<text fill=\"#000000\" font-family=\"Times,serif\" font-size=\"14.00\" text-anchor=\"middle\" x=\"276.5\" y=\"-340.3\">(None, 15)</text>\n</g>\n<!-- 140204051725264&#45;&gt;140204021652496 -->\n<g class=\"edge\" id=\"edge3\">\n<title>140204051725264-&gt;140204021652496</title>\n<path d=\"M170.0781,-415.3799C173.0074,-406.9962 176.3748,-397.3584 179.5399,-388.2996\" fill=\"none\" stroke=\"#000000\"/>\n<polygon fill=\"#000000\" points=\"182.8702,-389.3788 182.8646,-378.784 176.262,-387.0699 182.8702,-389.3788\" stroke=\"#000000\"/>\n</g>\n<!-- 140204025285584 -->\n<g class=\"node\" id=\"node6\">\n<title>140204025285584</title>\n<polygon fill=\"none\" points=\"356,-332.5 356,-378.5 622,-378.5 622,-332.5 356,-332.5\" stroke=\"#000000\"/>\n<text fill=\"#000000\" font-family=\"Times,serif\" font-size=\"14.00\" text-anchor=\"middle\" x=\"412.5\" y=\"-351.8\">flatten_7: Flatten</text>\n<polyline fill=\"none\" points=\"469,-332.5 469,-378.5 \" stroke=\"#000000\"/>\n<text fill=\"#000000\" font-family=\"Times,serif\" font-size=\"14.00\" text-anchor=\"middle\" x=\"498\" y=\"-363.3\">input:</text>\n<polyline fill=\"none\" points=\"469,-355.5 527,-355.5 \" stroke=\"#000000\"/>\n<text fill=\"#000000\" font-family=\"Times,serif\" font-size=\"14.00\" text-anchor=\"middle\" x=\"498\" y=\"-340.3\">output:</text>\n<polyline fill=\"none\" points=\"527,-332.5 527,-378.5 \" stroke=\"#000000\"/>\n<text fill=\"#000000\" font-family=\"Times,serif\" font-size=\"14.00\" text-anchor=\"middle\" x=\"574.5\" y=\"-363.3\">(None, 1, 15)</text>\n<polyline fill=\"none\" points=\"527,-355.5 622,-355.5 \" stroke=\"#000000\"/>\n<text fill=\"#000000\" font-family=\"Times,serif\" font-size=\"14.00\" text-anchor=\"middle\" x=\"574.5\" y=\"-340.3\">(None, 15)</text>\n</g>\n<!-- 140204021652560&#45;&gt;140204025285584 -->\n<g class=\"edge\" id=\"edge4\">\n<title>140204021652560-&gt;140204025285584</title>\n<path d=\"M499.8217,-415.3799C498.3388,-407.1745 496.6388,-397.7679 495.0323,-388.8786\" fill=\"none\" stroke=\"#000000\"/>\n<polygon fill=\"#000000\" points=\"498.4307,-388.0021 493.208,-378.784 491.5422,-389.2471 498.4307,-388.0021\" stroke=\"#000000\"/>\n</g>\n<!-- 140203990682768 -->\n<g class=\"node\" id=\"node7\">\n<title>140203990682768</title>\n<polygon fill=\"none\" points=\"137,-249.5 137,-295.5 529,-295.5 529,-249.5 137,-249.5\" stroke=\"#000000\"/>\n<text fill=\"#000000\" font-family=\"Times,serif\" font-size=\"14.00\" text-anchor=\"middle\" x=\"224.5\" y=\"-268.8\">concatenate_3: Concatenate</text>\n<polyline fill=\"none\" points=\"312,-249.5 312,-295.5 \" stroke=\"#000000\"/>\n<text fill=\"#000000\" font-family=\"Times,serif\" font-size=\"14.00\" text-anchor=\"middle\" x=\"341\" y=\"-280.3\">input:</text>\n<polyline fill=\"none\" points=\"312,-272.5 370,-272.5 \" stroke=\"#000000\"/>\n<text fill=\"#000000\" font-family=\"Times,serif\" font-size=\"14.00\" text-anchor=\"middle\" x=\"341\" y=\"-257.3\">output:</text>\n<polyline fill=\"none\" points=\"370,-249.5 370,-295.5 \" stroke=\"#000000\"/>\n<text fill=\"#000000\" font-family=\"Times,serif\" font-size=\"14.00\" text-anchor=\"middle\" x=\"449.5\" y=\"-280.3\">[(None, 15), (None, 15)]</text>\n<polyline fill=\"none\" points=\"370,-272.5 529,-272.5 \" stroke=\"#000000\"/>\n<text fill=\"#000000\" font-family=\"Times,serif\" font-size=\"14.00\" text-anchor=\"middle\" x=\"449.5\" y=\"-257.3\">(None, 30)</text>\n</g>\n<!-- 140204021652496&#45;&gt;140203990682768 -->\n<g class=\"edge\" id=\"edge5\">\n<title>140204021652496-&gt;140203990682768</title>\n<path d=\"M230.5549,-332.3799C247.1869,-322.6583 266.7039,-311.2505 284.2158,-301.0147\" fill=\"none\" stroke=\"#000000\"/>\n<polygon fill=\"#000000\" points=\"286.2975,-303.852 293.1647,-295.784 282.7651,-297.8086 286.2975,-303.852\" stroke=\"#000000\"/>\n</g>\n<!-- 140204025285584&#45;&gt;140203990682768 -->\n<g class=\"edge\" id=\"edge6\">\n<title>140204025285584-&gt;140203990682768</title>\n<path d=\"M445.5453,-332.3799C426.9442,-322.4832 405.0585,-310.8388 385.556,-300.4625\" fill=\"none\" stroke=\"#000000\"/>\n<polygon fill=\"#000000\" points=\"386.9642,-297.2472 376.492,-295.6399 383.6762,-303.427 386.9642,-297.2472\" stroke=\"#000000\"/>\n</g>\n<!-- 140204016363408 -->\n<g class=\"node\" id=\"node8\">\n<title>140204016363408</title>\n<polygon fill=\"none\" points=\"207,-166.5 207,-212.5 459,-212.5 459,-166.5 207,-166.5\" stroke=\"#000000\"/>\n<text fill=\"#000000\" font-family=\"Times,serif\" font-size=\"14.00\" text-anchor=\"middle\" x=\"260.5\" y=\"-185.8\">dense_6: Dense</text>\n<polyline fill=\"none\" points=\"314,-166.5 314,-212.5 \" stroke=\"#000000\"/>\n<text fill=\"#000000\" font-family=\"Times,serif\" font-size=\"14.00\" text-anchor=\"middle\" x=\"343\" y=\"-197.3\">input:</text>\n<polyline fill=\"none\" points=\"314,-189.5 372,-189.5 \" stroke=\"#000000\"/>\n<text fill=\"#000000\" font-family=\"Times,serif\" font-size=\"14.00\" text-anchor=\"middle\" x=\"343\" y=\"-174.3\">output:</text>\n<polyline fill=\"none\" points=\"372,-166.5 372,-212.5 \" stroke=\"#000000\"/>\n<text fill=\"#000000\" font-family=\"Times,serif\" font-size=\"14.00\" text-anchor=\"middle\" x=\"415.5\" y=\"-197.3\">(None, 30)</text>\n<polyline fill=\"none\" points=\"372,-189.5 459,-189.5 \" stroke=\"#000000\"/>\n<text fill=\"#000000\" font-family=\"Times,serif\" font-size=\"14.00\" text-anchor=\"middle\" x=\"415.5\" y=\"-174.3\">(None, 128)</text>\n</g>\n<!-- 140203990682768&#45;&gt;140204016363408 -->\n<g class=\"edge\" id=\"edge7\">\n<title>140203990682768-&gt;140204016363408</title>\n<path d=\"M333,-249.3799C333,-241.1745 333,-231.7679 333,-222.8786\" fill=\"none\" stroke=\"#000000\"/>\n<polygon fill=\"#000000\" points=\"336.5001,-222.784 333,-212.784 329.5001,-222.784 336.5001,-222.784\" stroke=\"#000000\"/>\n</g>\n<!-- 140204016205200 -->\n<g class=\"node\" id=\"node9\">\n<title>140204016205200</title>\n<polygon fill=\"none\" points=\"193.5,-83.5 193.5,-129.5 472.5,-129.5 472.5,-83.5 193.5,-83.5\" stroke=\"#000000\"/>\n<text fill=\"#000000\" font-family=\"Times,serif\" font-size=\"14.00\" text-anchor=\"middle\" x=\"260.5\" y=\"-102.8\">dropout_3: Dropout</text>\n<polyline fill=\"none\" points=\"327.5,-83.5 327.5,-129.5 \" stroke=\"#000000\"/>\n<text fill=\"#000000\" font-family=\"Times,serif\" font-size=\"14.00\" text-anchor=\"middle\" x=\"356.5\" y=\"-114.3\">input:</text>\n<polyline fill=\"none\" points=\"327.5,-106.5 385.5,-106.5 \" stroke=\"#000000\"/>\n<text fill=\"#000000\" font-family=\"Times,serif\" font-size=\"14.00\" text-anchor=\"middle\" x=\"356.5\" y=\"-91.3\">output:</text>\n<polyline fill=\"none\" points=\"385.5,-83.5 385.5,-129.5 \" stroke=\"#000000\"/>\n<text fill=\"#000000\" font-family=\"Times,serif\" font-size=\"14.00\" text-anchor=\"middle\" x=\"429\" y=\"-114.3\">(None, 128)</text>\n<polyline fill=\"none\" points=\"385.5,-106.5 472.5,-106.5 \" stroke=\"#000000\"/>\n<text fill=\"#000000\" font-family=\"Times,serif\" font-size=\"14.00\" text-anchor=\"middle\" x=\"429\" y=\"-91.3\">(None, 128)</text>\n</g>\n<!-- 140204016363408&#45;&gt;140204016205200 -->\n<g class=\"edge\" id=\"edge8\">\n<title>140204016363408-&gt;140204016205200</title>\n<path d=\"M333,-166.3799C333,-158.1745 333,-148.7679 333,-139.8786\" fill=\"none\" stroke=\"#000000\"/>\n<polygon fill=\"#000000\" points=\"336.5001,-139.784 333,-129.784 329.5001,-139.784 336.5001,-139.784\" stroke=\"#000000\"/>\n</g>\n<!-- 140204016204752 -->\n<g class=\"node\" id=\"node10\">\n<title>140204016204752</title>\n<polygon fill=\"none\" points=\"207,-.5 207,-46.5 459,-46.5 459,-.5 207,-.5\" stroke=\"#000000\"/>\n<text fill=\"#000000\" font-family=\"Times,serif\" font-size=\"14.00\" text-anchor=\"middle\" x=\"260.5\" y=\"-19.8\">dense_7: Dense</text>\n<polyline fill=\"none\" points=\"314,-.5 314,-46.5 \" stroke=\"#000000\"/>\n<text fill=\"#000000\" font-family=\"Times,serif\" font-size=\"14.00\" text-anchor=\"middle\" x=\"343\" y=\"-31.3\">input:</text>\n<polyline fill=\"none\" points=\"314,-23.5 372,-23.5 \" stroke=\"#000000\"/>\n<text fill=\"#000000\" font-family=\"Times,serif\" font-size=\"14.00\" text-anchor=\"middle\" x=\"343\" y=\"-8.3\">output:</text>\n<polyline fill=\"none\" points=\"372,-.5 372,-46.5 \" stroke=\"#000000\"/>\n<text fill=\"#000000\" font-family=\"Times,serif\" font-size=\"14.00\" text-anchor=\"middle\" x=\"415.5\" y=\"-31.3\">(None, 128)</text>\n<polyline fill=\"none\" points=\"372,-23.5 459,-23.5 \" stroke=\"#000000\"/>\n<text fill=\"#000000\" font-family=\"Times,serif\" font-size=\"14.00\" text-anchor=\"middle\" x=\"415.5\" y=\"-8.3\">(None, 1)</text>\n</g>\n<!-- 140204016205200&#45;&gt;140204016204752 -->\n<g class=\"edge\" id=\"edge9\">\n<title>140204016205200-&gt;140204016204752</title>\n<path d=\"M333,-83.3799C333,-75.1745 333,-65.7679 333,-56.8786\" fill=\"none\" stroke=\"#000000\"/>\n<polygon fill=\"#000000\" points=\"336.5001,-56.784 333,-46.784 329.5001,-56.784 336.5001,-56.784\" stroke=\"#000000\"/>\n</g>\n</g>\n</svg>"
          },
          "metadata": {
            "tags": []
          },
          "execution_count": 45
        }
      ]
    },
    {
      "cell_type": "code",
      "metadata": {
        "colab": {
          "base_uri": "https://localhost:8080/"
        },
        "id": "sxg1iVCkAhuE",
        "outputId": "7c007d70-ce20-403f-e606-b945f3556cf8"
      },
      "source": [
        "model.summary()"
      ],
      "execution_count": 46,
      "outputs": [
        {
          "output_type": "stream",
          "text": [
            "Model: \"model_3\"\n",
            "__________________________________________________________________________________________________\n",
            "Layer (type)                    Output Shape         Param #     Connected to                     \n",
            "==================================================================================================\n",
            "input_8 (InputLayer)            [(None, 1)]          0                                            \n",
            "__________________________________________________________________________________________________\n",
            "input_9 (InputLayer)            [(None, 1)]          0                                            \n",
            "__________________________________________________________________________________________________\n",
            "embedding_7 (Embedding)         (None, 1, 15)        3015        input_8[0][0]                    \n",
            "__________________________________________________________________________________________________\n",
            "embedding_8 (Embedding)         (None, 1, 15)        1605        input_9[0][0]                    \n",
            "__________________________________________________________________________________________________\n",
            "flatten_6 (Flatten)             (None, 15)           0           embedding_7[0][0]                \n",
            "__________________________________________________________________________________________________\n",
            "flatten_7 (Flatten)             (None, 15)           0           embedding_8[0][0]                \n",
            "__________________________________________________________________________________________________\n",
            "concatenate_3 (Concatenate)     (None, 30)           0           flatten_6[0][0]                  \n",
            "                                                                 flatten_7[0][0]                  \n",
            "__________________________________________________________________________________________________\n",
            "dense_6 (Dense)                 (None, 128)          3968        concatenate_3[0][0]              \n",
            "__________________________________________________________________________________________________\n",
            "dropout_3 (Dropout)             (None, 128)          0           dense_6[0][0]                    \n",
            "__________________________________________________________________________________________________\n",
            "dense_7 (Dense)                 (None, 1)            129         dropout_3[0][0]                  \n",
            "==================================================================================================\n",
            "Total params: 8,717\n",
            "Trainable params: 8,717\n",
            "Non-trainable params: 0\n",
            "__________________________________________________________________________________________________\n"
          ],
          "name": "stdout"
        }
      ]
    },
    {
      "cell_type": "code",
      "metadata": {
        "colab": {
          "base_uri": "https://localhost:8080/"
        },
        "id": "Y2Ofln1WAoBQ",
        "outputId": "c5ce1cbd-ffbb-4651-eebb-c71b588a042c"
      },
      "source": [
        "from sklearn.model_selection import train_test_split\n",
        "\n",
        "X = rating.drop(['rating'], axis=1)\n",
        "y = rating['rating']\n",
        "\n",
        "X_train, X_val, y_train, y_val = train_test_split(X, y,\n",
        "                                                  test_size=.1,\n",
        "                                                  stratify=y,\n",
        "                                                  random_state=2020)\n",
        "\n",
        "X_train.shape, X_val.shape, y_train.shape, y_val.shape"
      ],
      "execution_count": 17,
      "outputs": [
        {
          "output_type": "execute_result",
          "data": {
            "text/plain": [
              "((1118, 2), (125, 2), (1118,), (125,))"
            ]
          },
          "metadata": {
            "tags": []
          },
          "execution_count": 17
        }
      ]
    },
    {
      "cell_type": "code",
      "metadata": {
        "colab": {
          "base_uri": "https://localhost:8080/",
          "height": 202
        },
        "id": "gpOFrdkTBaqM",
        "outputId": "a470ef4a-6997-4a26-e4c4-2f6d19360531"
      },
      "source": [
        "# y.head()\n",
        "X.head()"
      ],
      "execution_count": 47,
      "outputs": [
        {
          "output_type": "execute_result",
          "data": {
            "text/html": [
              "<div>\n",
              "<style scoped>\n",
              "    .dataframe tbody tr th:only-of-type {\n",
              "        vertical-align: middle;\n",
              "    }\n",
              "\n",
              "    .dataframe tbody tr th {\n",
              "        vertical-align: top;\n",
              "    }\n",
              "\n",
              "    .dataframe thead th {\n",
              "        text-align: right;\n",
              "    }\n",
              "</style>\n",
              "<table border=\"1\" class=\"dataframe\">\n",
              "  <thead>\n",
              "    <tr style=\"text-align: right;\">\n",
              "      <th></th>\n",
              "      <th>user_id</th>\n",
              "      <th>dtw_id</th>\n",
              "    </tr>\n",
              "  </thead>\n",
              "  <tbody>\n",
              "    <tr>\n",
              "      <th>0</th>\n",
              "      <td>1</td>\n",
              "      <td>84</td>\n",
              "    </tr>\n",
              "    <tr>\n",
              "      <th>1</th>\n",
              "      <td>1</td>\n",
              "      <td>96</td>\n",
              "    </tr>\n",
              "    <tr>\n",
              "      <th>2</th>\n",
              "      <td>2</td>\n",
              "      <td>98</td>\n",
              "    </tr>\n",
              "    <tr>\n",
              "      <th>3</th>\n",
              "      <td>2</td>\n",
              "      <td>73</td>\n",
              "    </tr>\n",
              "    <tr>\n",
              "      <th>4</th>\n",
              "      <td>2</td>\n",
              "      <td>35</td>\n",
              "    </tr>\n",
              "  </tbody>\n",
              "</table>\n",
              "</div>"
            ],
            "text/plain": [
              "   user_id  dtw_id\n",
              "0        1      84\n",
              "1        1      96\n",
              "2        2      98\n",
              "3        2      73\n",
              "4        2      35"
            ]
          },
          "metadata": {
            "tags": []
          },
          "execution_count": 47
        }
      ]
    },
    {
      "cell_type": "code",
      "metadata": {
        "id": "j-iOs4RpB1PT"
      },
      "source": [
        "checkpoint = ModelCheckpoint('model1.h5', monitor='val_loss', verbose=0, save_best_only=True)"
      ],
      "execution_count": 48,
      "outputs": []
    },
    {
      "cell_type": "code",
      "metadata": {
        "colab": {
          "base_uri": "https://localhost:8080/"
        },
        "id": "7MwvZKYeCBFS",
        "outputId": "1b951239-1305-4844-9c00-023f25f4e436"
      },
      "source": [
        "history = model.fit(x=[X_train['user_id'], X_train['dtw_id']],\n",
        "                    y=y_train,\n",
        "                    batch_size=5,\n",
        "                    epochs=6,\n",
        "                    verbose=1,\n",
        "                    validation_data=([X_val['user_id'], X_val['dtw_id']], y_val),\n",
        "                    callbacks=[checkpoint]\n",
        "                    )"
      ],
      "execution_count": 49,
      "outputs": [
        {
          "output_type": "stream",
          "text": [
            "Epoch 1/6\n",
            "224/224 [==============================] - 2s 5ms/step - loss: 6.2413 - val_loss: 0.4327\n",
            "Epoch 2/6\n",
            "224/224 [==============================] - 1s 4ms/step - loss: 0.5843 - val_loss: 0.4100\n",
            "Epoch 3/6\n",
            "224/224 [==============================] - 1s 4ms/step - loss: 0.5820 - val_loss: 0.4175\n",
            "Epoch 4/6\n",
            "224/224 [==============================] - 1s 4ms/step - loss: 0.5276 - val_loss: 0.4052\n",
            "Epoch 5/6\n",
            "224/224 [==============================] - 1s 4ms/step - loss: 0.5354 - val_loss: 0.4352\n",
            "Epoch 6/6\n",
            "224/224 [==============================] - 1s 4ms/step - loss: 0.5092 - val_loss: 0.4113\n"
          ],
          "name": "stdout"
        }
      ]
    },
    {
      "cell_type": "code",
      "metadata": {
        "colab": {
          "base_uri": "https://localhost:8080/",
          "height": 279
        },
        "id": "hIk-k_n_FNPG",
        "outputId": "1d6e0f07-5085-428d-ceaa-ae59d2135974"
      },
      "source": [
        "# Get training and test loss histories\n",
        "training_loss2 = history.history['loss']\n",
        "test_loss2 = history.history['val_loss']\n",
        "\n",
        "# Create count of the number of epochs\n",
        "epoch_count = range(1, len(training_loss2) + 1)\n",
        "\n",
        "# Visualize loss history\n",
        "plt.plot(epoch_count, training_loss2, 'r--')\n",
        "plt.plot(epoch_count, test_loss2, 'b-')\n",
        "plt.legend(['Training Loss', 'Test Loss'])\n",
        "plt.xlabel('Epoch')\n",
        "plt.ylabel('Loss')\n",
        "plt.show()"
      ],
      "execution_count": 50,
      "outputs": [
        {
          "output_type": "display_data",
          "data": {
            "image/png": "[encoded data removed]",
            "text/plain": [
              "<Figure size 432x288 with 1 Axes>"
            ]
          },
          "metadata": {
            "tags": [],
            "needs_background": "light"
          }
        }
      ]
    },
    {
      "cell_type": "code",
      "metadata": {
        "id": "uVOhAyT9FaMG"
      },
      "source": [
        "from tensorflow.keras.models import load_model\n",
        "\n",
        "model = load_model('model1.h5')"
      ],
      "execution_count": 51,
      "outputs": []
    },
    {
      "cell_type": "code",
      "metadata": {
        "id": "YZOJeKvFFl8t"
      },
      "source": [
        "def make_pred(user_id, dtw_id, model):\n",
        "    return model.predict([np.array([user_id]), np.array([dtw_id])])[0][0]"
      ],
      "execution_count": 52,
      "outputs": []
    },
    {
      "cell_type": "code",
      "metadata": {
        "id": "Cl-q0FcJFt77"
      },
      "source": [
        "def get_topN_rec(user_id, model):\n",
        "    \n",
        "    user_id = int(user_id) - 1\n",
        "    user_ratings = rating[rating['user_id'] == user_id]\n",
        "    recommendation = rating[~rating['dtw_id'].isin(user_ratings['dtw_id'])][['dtw_id']].drop_duplicates()\n",
        "    recommendation['rating_predict'] = recommendation.apply(lambda x: make_pred(user_id, x['dtw_id'], model), axis=1)\n",
        "    \n",
        "    final_rec = recommendation.sort_values(by='rating_predict', ascending=False).merge(dtw_new[['dtw_id', 'name']],\n",
        "                                                                                       on='dtw_id').head(10)\n",
        "    \n",
        "    return final_rec.sort_values('rating_predict', ascending=False)[['name', 'rating_predict']]"
      ],
      "execution_count": 72,
      "outputs": []
    },
    {
      "cell_type": "code",
      "metadata": {
        "colab": {
          "base_uri": "https://localhost:8080/",
          "height": 325
        },
        "id": "JyEC6LpHHBcN",
        "outputId": "df99bbde-3dce-4348-a78d-c1e95621ff2e"
      },
      "source": [
        "user_ratings = rating[rating['user_id'] == 24]\n",
        "user_ratings"
      ],
      "execution_count": 57,
      "outputs": [
        {
          "output_type": "execute_result",
          "data": {
            "text/html": [
              "<div>\n",
              "<style scoped>\n",
              "    .dataframe tbody tr th:only-of-type {\n",
              "        vertical-align: middle;\n",
              "    }\n",
              "\n",
              "    .dataframe tbody tr th {\n",
              "        vertical-align: top;\n",
              "    }\n",
              "\n",
              "    .dataframe thead th {\n",
              "        text-align: right;\n",
              "    }\n",
              "</style>\n",
              "<table border=\"1\" class=\"dataframe\">\n",
              "  <thead>\n",
              "    <tr style=\"text-align: right;\">\n",
              "      <th></th>\n",
              "      <th>user_id</th>\n",
              "      <th>dtw_id</th>\n",
              "      <th>rating</th>\n",
              "    </tr>\n",
              "  </thead>\n",
              "  <tbody>\n",
              "    <tr>\n",
              "      <th>152</th>\n",
              "      <td>24</td>\n",
              "      <td>35</td>\n",
              "      <td>3.4</td>\n",
              "    </tr>\n",
              "    <tr>\n",
              "      <th>153</th>\n",
              "      <td>24</td>\n",
              "      <td>33</td>\n",
              "      <td>3.7</td>\n",
              "    </tr>\n",
              "    <tr>\n",
              "      <th>154</th>\n",
              "      <td>24</td>\n",
              "      <td>19</td>\n",
              "      <td>3.5</td>\n",
              "    </tr>\n",
              "    <tr>\n",
              "      <th>155</th>\n",
              "      <td>24</td>\n",
              "      <td>69</td>\n",
              "      <td>4.5</td>\n",
              "    </tr>\n",
              "    <tr>\n",
              "      <th>156</th>\n",
              "      <td>24</td>\n",
              "      <td>48</td>\n",
              "      <td>4.0</td>\n",
              "    </tr>\n",
              "    <tr>\n",
              "      <th>157</th>\n",
              "      <td>24</td>\n",
              "      <td>77</td>\n",
              "      <td>3.1</td>\n",
              "    </tr>\n",
              "    <tr>\n",
              "      <th>158</th>\n",
              "      <td>24</td>\n",
              "      <td>45</td>\n",
              "      <td>4.3</td>\n",
              "    </tr>\n",
              "    <tr>\n",
              "      <th>159</th>\n",
              "      <td>24</td>\n",
              "      <td>26</td>\n",
              "      <td>3.5</td>\n",
              "    </tr>\n",
              "    <tr>\n",
              "      <th>160</th>\n",
              "      <td>24</td>\n",
              "      <td>20</td>\n",
              "      <td>3.6</td>\n",
              "    </tr>\n",
              "  </tbody>\n",
              "</table>\n",
              "</div>"
            ],
            "text/plain": [
              "     user_id  dtw_id  rating\n",
              "152       24      35     3.4\n",
              "153       24      33     3.7\n",
              "154       24      19     3.5\n",
              "155       24      69     4.5\n",
              "156       24      48     4.0\n",
              "157       24      77     3.1\n",
              "158       24      45     4.3\n",
              "159       24      26     3.5\n",
              "160       24      20     3.6"
            ]
          },
          "metadata": {
            "tags": []
          },
          "execution_count": 57
        }
      ]
    },
    {
      "cell_type": "code",
      "metadata": {
        "id": "54TxXD5tHMw9"
      },
      "source": [
        "recommendation = rating[~rating['dtw_id'].isin(user_ratings['dtw_id'])][['dtw_id']].drop_duplicates()\n",
        "# ~rating['dtw_id'].isin(user_ratings['dtw_id'])"
      ],
      "execution_count": 60,
      "outputs": []
    },
    {
      "cell_type": "code",
      "metadata": {
        "colab": {
          "base_uri": "https://localhost:8080/",
          "height": 355
        },
        "id": "VBdWPxwJGKHo",
        "outputId": "c84ce76f-0f36-435b-cb69-36416fe4e3bd"
      },
      "source": [
        "get_topN_rec(23, model)"
      ],
      "execution_count": 73,
      "outputs": [
        {
          "output_type": "execute_result",
          "data": {
            "text/html": [
              "<div>\n",
              "<style scoped>\n",
              "    .dataframe tbody tr th:only-of-type {\n",
              "        vertical-align: middle;\n",
              "    }\n",
              "\n",
              "    .dataframe tbody tr th {\n",
              "        vertical-align: top;\n",
              "    }\n",
              "\n",
              "    .dataframe thead th {\n",
              "        text-align: right;\n",
              "    }\n",
              "</style>\n",
              "<table border=\"1\" class=\"dataframe\">\n",
              "  <thead>\n",
              "    <tr style=\"text-align: right;\">\n",
              "      <th></th>\n",
              "      <th>name</th>\n",
              "      <th>rating_predict</th>\n",
              "    </tr>\n",
              "  </thead>\n",
              "  <tbody>\n",
              "    <tr>\n",
              "      <th>0</th>\n",
              "      <td>Ciputih Resort Ujung Kulon</td>\n",
              "      <td>4.850907</td>\n",
              "    </tr>\n",
              "    <tr>\n",
              "      <th>1</th>\n",
              "      <td>Taman Nasional Ujung Kulon</td>\n",
              "      <td>4.552100</td>\n",
              "    </tr>\n",
              "    <tr>\n",
              "      <th>2</th>\n",
              "      <td>Pulau Sangiang</td>\n",
              "      <td>4.443357</td>\n",
              "    </tr>\n",
              "    <tr>\n",
              "      <th>3</th>\n",
              "      <td>Kebun Teh Wonosari</td>\n",
              "      <td>4.244282</td>\n",
              "    </tr>\n",
              "    <tr>\n",
              "      <th>4</th>\n",
              "      <td>Museum Angkut Malang</td>\n",
              "      <td>4.227908</td>\n",
              "    </tr>\n",
              "    <tr>\n",
              "      <th>5</th>\n",
              "      <td>Air Terjun Sri Gethuk</td>\n",
              "      <td>4.218156</td>\n",
              "    </tr>\n",
              "    <tr>\n",
              "      <th>6</th>\n",
              "      <td>Air Terjun Oenesu</td>\n",
              "      <td>4.216429</td>\n",
              "    </tr>\n",
              "    <tr>\n",
              "      <th>7</th>\n",
              "      <td>Taman Nasional Komodo</td>\n",
              "      <td>4.208915</td>\n",
              "    </tr>\n",
              "    <tr>\n",
              "      <th>8</th>\n",
              "      <td>HeHa Sky View</td>\n",
              "      <td>4.205467</td>\n",
              "    </tr>\n",
              "    <tr>\n",
              "      <th>9</th>\n",
              "      <td>Museum Manusia Purba Klaster Ngebung</td>\n",
              "      <td>4.185772</td>\n",
              "    </tr>\n",
              "  </tbody>\n",
              "</table>\n",
              "</div>"
            ],
            "text/plain": [
              "                                   name  rating_predict\n",
              "0            Ciputih Resort Ujung Kulon        4.850907\n",
              "1            Taman Nasional Ujung Kulon        4.552100\n",
              "2                        Pulau Sangiang        4.443357\n",
              "3                    Kebun Teh Wonosari        4.244282\n",
              "4                  Museum Angkut Malang        4.227908\n",
              "5                 Air Terjun Sri Gethuk        4.218156\n",
              "6                     Air Terjun Oenesu        4.216429\n",
              "7                 Taman Nasional Komodo        4.208915\n",
              "8                         HeHa Sky View        4.205467\n",
              "9  Museum Manusia Purba Klaster Ngebung        4.185772"
            ]
          },
          "metadata": {
            "tags": []
          },
          "execution_count": 73
        }
      ]
    },
    {
      "cell_type": "code",
      "metadata": {
        "colab": {
          "base_uri": "https://localhost:8080/",
          "height": 479
        },
        "id": "OmgCNU8aJD6C",
        "outputId": "e8526d07-8586-4185-d92c-703226ebca3a"
      },
      "source": [
        "dtw_new = dtw.rename(columns={'ID': 'dtw_id'})\n",
        "dtw_new = dtw_new.rename(columns={'Nama Daya Tarik Wisata': 'name'})\n",
        "dtw_new.head()"
      ],
      "execution_count": 70,
      "outputs": [
        {
          "output_type": "execute_result",
          "data": {
            "text/html": [
              "<div>\n",
              "<style scoped>\n",
              "    .dataframe tbody tr th:only-of-type {\n",
              "        vertical-align: middle;\n",
              "    }\n",
              "\n",
              "    .dataframe tbody tr th {\n",
              "        vertical-align: top;\n",
              "    }\n",
              "\n",
              "    .dataframe thead th {\n",
              "        text-align: right;\n",
              "    }\n",
              "</style>\n",
              "<table border=\"1\" class=\"dataframe\">\n",
              "  <thead>\n",
              "    <tr style=\"text-align: right;\">\n",
              "      <th></th>\n",
              "      <th>dtw_id</th>\n",
              "      <th>name</th>\n",
              "      <th>Alamat</th>\n",
              "      <th>Daerah</th>\n",
              "      <th>Provinsi</th>\n",
              "      <th>Kawasan</th>\n",
              "      <th>Kategori</th>\n",
              "      <th>Google Review</th>\n",
              "      <th>Google Map ID</th>\n",
              "    </tr>\n",
              "  </thead>\n",
              "  <tbody>\n",
              "    <tr>\n",
              "      <th>0</th>\n",
              "      <td>1</td>\n",
              "      <td>Pantai Kuta</td>\n",
              "      <td>Kuta, Badung, Bali</td>\n",
              "      <td>Kuta</td>\n",
              "      <td>Bali</td>\n",
              "      <td>Pantai</td>\n",
              "      <td>Alam</td>\n",
              "      <td>4.4</td>\n",
              "      <td>ChIJkbJrRYFH0i0RggJb7CncdHE</td>\n",
              "    </tr>\n",
              "    <tr>\n",
              "      <th>1</th>\n",
              "      <td>2</td>\n",
              "      <td>Peninsula Island</td>\n",
              "      <td>Pulau Peninsula Nusa Dua, Nusa Dua, Benoa, Kec...</td>\n",
              "      <td>Nusa Dua</td>\n",
              "      <td>Bali</td>\n",
              "      <td>Pantai</td>\n",
              "      <td>Alam</td>\n",
              "      <td>4.5</td>\n",
              "      <td>ChIJM51wq9dC0i0RktOawQYW3jk</td>\n",
              "    </tr>\n",
              "    <tr>\n",
              "      <th>2</th>\n",
              "      <td>3</td>\n",
              "      <td>Pura Luhur Uluwatu</td>\n",
              "      <td>Pecatu, Kec. Kuta Sel., Kabupaten Badung, Bali</td>\n",
              "      <td>Pecatu</td>\n",
              "      <td>Bali</td>\n",
              "      <td>Pantai</td>\n",
              "      <td>Budaya</td>\n",
              "      <td>4.6</td>\n",
              "      <td>ChIJkYHLIPxP0i0RlQTbpxuNuQw</td>\n",
              "    </tr>\n",
              "    <tr>\n",
              "      <th>3</th>\n",
              "      <td>4</td>\n",
              "      <td>Garuda Wisnu Kencana</td>\n",
              "      <td>Jl. Raya Uluwatu, Ungasan, Kuta Selatan Badung...</td>\n",
              "      <td>Ungasan</td>\n",
              "      <td>Bali</td>\n",
              "      <td>Kota</td>\n",
              "      <td>Monumen</td>\n",
              "      <td>4.5</td>\n",
              "      <td>ChIJx97hVM9E0i0RUVpPBj5miBk</td>\n",
              "    </tr>\n",
              "    <tr>\n",
              "      <th>4</th>\n",
              "      <td>5</td>\n",
              "      <td>Pantai Padang - Padang</td>\n",
              "      <td>Pecatu, Kuta Selatan, Kabupaten Badung, Bali.</td>\n",
              "      <td>Pecatu</td>\n",
              "      <td>Bali</td>\n",
              "      <td>Pantai</td>\n",
              "      <td>Alam</td>\n",
              "      <td>4.4</td>\n",
              "      <td>ChIJV-JMXVBF0i0RFUBMWOw7eGQ</td>\n",
              "    </tr>\n",
              "  </tbody>\n",
              "</table>\n",
              "</div>"
            ],
            "text/plain": [
              "   dtw_id                    name  ... Google Review                Google Map ID\n",
              "0       1             Pantai Kuta  ...           4.4  ChIJkbJrRYFH0i0RggJb7CncdHE\n",
              "1       2        Peninsula Island  ...           4.5  ChIJM51wq9dC0i0RktOawQYW3jk\n",
              "2       3      Pura Luhur Uluwatu  ...           4.6  ChIJkYHLIPxP0i0RlQTbpxuNuQw\n",
              "3       4    Garuda Wisnu Kencana  ...           4.5  ChIJx97hVM9E0i0RUVpPBj5miBk\n",
              "4       5  Pantai Padang - Padang  ...           4.4  ChIJV-JMXVBF0i0RFUBMWOw7eGQ\n",
              "\n",
              "[5 rows x 9 columns]"
            ]
          },
          "metadata": {
            "tags": []
          },
          "execution_count": 70
        }
      ]
    },
    {
      "cell_type": "code",
      "metadata": {
        "colab": {
          "base_uri": "https://localhost:8080/"
        },
        "id": "NCQIcUpeMBlG",
        "outputId": "006093fa-4ac5-45f5-d515-fe7e043fb3cf"
      },
      "source": [
        "export_dir = 'model'\n",
        "tf.saved_model.save(model, export_dir)"
      ],
      "execution_count": 74,
      "outputs": [
        {
          "output_type": "stream",
          "text": [
            "WARNING:tensorflow:FOR KERAS USERS: The object that you are saving contains one or more Keras models or layers. If you are loading the SavedModel with `tf.keras.models.load_model`, continue reading (otherwise, you may ignore the following instructions). Please change your code to save with `tf.keras.models.save_model` or `model.save`, and confirm that the file \"keras.metadata\" exists in the export directory. In the future, Keras will only load the SavedModels that have this file. In other words, `tf.saved_model.save` will no longer write SavedModels that can be recovered as Keras models (this will apply in TF 2.5).\n",
            "\n",
            "FOR DEVS: If you are overwriting _tracking_metadata in your class, this property has been used to save metadata in the SavedModel. The metadta field will be deprecated soon, so please move the metadata to a different file.\n",
            "INFO:tensorflow:Assets written to: model/assets\n"
          ],
          "name": "stdout"
        }
      ]
    },
    {
      "cell_type": "code",
      "metadata": {
        "id": "1XPHktFbMVw2"
      },
      "source": [
        "converter = tf.lite.TFLiteConverter.from_saved_model(export_dir)\n",
        "# converter.optimizations = [tff.lite.Optimize.OPTIMIZE_FOR_SIZE]\n",
        "tflite_model = converter.convert()"
      ],
      "execution_count": 75,
      "outputs": []
    },
    {
      "cell_type": "code",
      "metadata": {
        "id": "EwHm1zzOMepQ"
      },
      "source": [
        "tflite_model_file = 'converted_model.tflite'\n",
        "\n",
        "with open(tflite_model_file, \"wb\") as f:\n",
        "    f.write(tflite_model)"
      ],
      "execution_count": 76,
      "outputs": []
    },
    {
      "cell_type": "code",
      "metadata": {
        "colab": {
          "base_uri": "https://localhost:8080/",
          "height": 17
        },
        "id": "SmkaAb3sNZkJ",
        "outputId": "0354dee1-5813-470b-897e-0b1f97816a5c"
      },
      "source": [
        "from google.colab import files\n",
        "# files.download(\"model.zip\")\n",
        "files.download('model1.h5')"
      ],
      "execution_count": 78,
      "outputs": [
        {
          "output_type": "display_data",
          "data": {
            "application/javascript": [
              "\n",
              "    async function download(id, filename, size) {\n",
              "      if (!google.colab.kernel.accessAllowed) {\n",
              "        return;\n",
              "      }\n",
              "      const div = document.createElement('div');\n",
              "      const label = document.createElement('label');\n",
              "      label.textContent = `Downloading \"${filename}\": `;\n",
              "      div.appendChild(label);\n",
              "      const progress = document.createElement('progress');\n",
              "      progress.max = size;\n",
              "      div.appendChild(progress);\n",
              "      document.body.appendChild(div);\n",
              "\n",
              "      const buffers = [];\n",
              "      let downloaded = 0;\n",
              "\n",
              "      const channel = await google.colab.kernel.comms.open(id);\n",
              "      // Send a message to notify the kernel that we're ready.\n",
              "      channel.send({})\n",
              "\n",
              "      for await (const message of channel.messages) {\n",
              "        // Send a message to notify the kernel that we're ready.\n",
              "        channel.send({})\n",
              "        if (message.buffers) {\n",
              "          for (const buffer of message.buffers) {\n",
              "            buffers.push(buffer);\n",
              "            downloaded += buffer.byteLength;\n",
              "            progress.value = downloaded;\n",
              "          }\n",
              "        }\n",
              "      }\n",
              "      const blob = new Blob(buffers, {type: 'application/binary'});\n",
              "      const a = document.createElement('a');\n",
              "      a.href = window.URL.createObjectURL(blob);\n",
              "      a.download = filename;\n",
              "      div.appendChild(a);\n",
              "      a.click();\n",
              "      div.remove();\n",
              "    }\n",
              "  "
            ],
            "text/plain": [
              "<IPython.core.display.Javascript object>"
            ]
          },
          "metadata": {
            "tags": []
          }
        },
        {
          "output_type": "display_data",
          "data": {
            "application/javascript": [
              "download(\"download_36650266-7220-4c73-a2f4-18e0cbfccd2f\", \"model1.h5\", 150136)"
            ],
            "text/plain": [
              "<IPython.core.display.Javascript object>"
            ]
          },
          "metadata": {
            "tags": []
          }
        }
      ]
    }
  ]
}